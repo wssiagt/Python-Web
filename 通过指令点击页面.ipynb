{
 "cells": [
  {
   "cell_type": "code",
   "execution_count": 7,
   "id": "99d584ce",
   "metadata": {},
   "outputs": [
    {
     "name": "stdout",
     "output_type": "stream",
     "text": [
      "\n"
     ]
    },
    {
     "name": "stderr",
     "output_type": "stream",
     "text": [
      "[WDM] - ====== WebDriver manager ======\n",
      "[WDM] - Current google-chrome version is 101.0.4951\n",
      "[WDM] - Get LATEST chromedriver version for 101.0.4951 google-chrome\n",
      "[WDM] - Driver [C:\\Users\\wssia\\.wdm\\drivers\\chromedriver\\win32\\101.0.4951.41\\chromedriver.exe] found in cache\n"
     ]
    }
   ],
   "source": [
    "# 通过selenium点击网页页面\n",
    "from selenium import webdriver\n",
    "from selenium.webdriver.chrome.service import Service\n",
    "from webdriver_manager.chrome import ChromeDriverManager\n",
    "\n",
    "driver = webdriver.Chrome(service=Service(ChromeDriverManager().install()))"
   ]
  },
  {
   "cell_type": "code",
   "execution_count": 9,
   "id": "91466bff",
   "metadata": {},
   "outputs": [
    {
     "name": "stderr",
     "output_type": "stream",
     "text": [
      "<ipython-input-9-8af64d61b85b>:2: DeprecationWarning: find_element_by_link_text is deprecated. Please use find_element(by=By.LINK_TEXT, value=link_text) instead\n",
      "  linkElem = driver.find_element_by_link_text('Finance')\n"
     ]
    },
    {
     "data": {
      "text/plain": [
       "selenium.webdriver.remote.webelement.WebElement"
      ]
     },
     "execution_count": 9,
     "metadata": {},
     "output_type": "execute_result"
    }
   ],
   "source": [
    "driver.get('https://www.yahoo.com')\n",
    "linkElem = driver.find_element_by_link_text('Finance')\n",
    "type(linkElem)"
   ]
  },
  {
   "cell_type": "code",
   "execution_count": 11,
   "id": "63755499",
   "metadata": {},
   "outputs": [],
   "source": [
    "linkElem.click()"
   ]
  },
  {
   "cell_type": "code",
   "execution_count": 13,
   "id": "72ed1970",
   "metadata": {},
   "outputs": [],
   "source": [
    "driver.get('https://fenix.iscte-iul.pt/loginPage.jsp')"
   ]
  },
  {
   "cell_type": "code",
   "execution_count": 15,
   "id": "2056e94a",
   "metadata": {},
   "outputs": [
    {
     "name": "stderr",
     "output_type": "stream",
     "text": [
      "<ipython-input-15-75d6ca37baf5>:1: DeprecationWarning: find_element_by_* commands are deprecated. Please use find_element() instead\n",
      "  cookies = driver.find_element_by_id('acceptAllCookies')\n"
     ]
    }
   ],
   "source": [
    "cookies = driver.find_element_by_id('acceptAllCookies')"
   ]
  },
  {
   "cell_type": "code",
   "execution_count": 16,
   "id": "9a8fcb22",
   "metadata": {},
   "outputs": [],
   "source": [
    "cookies.click()"
   ]
  },
  {
   "cell_type": "code",
   "execution_count": 20,
   "id": "05482a4b",
   "metadata": {},
   "outputs": [
    {
     "name": "stderr",
     "output_type": "stream",
     "text": [
      "<ipython-input-20-d4ab8e2ad772>:1: DeprecationWarning: find_element_by_* commands are deprecated. Please use find_element() instead\n",
      "  userElem = driver.find_element_by_id('username')\n"
     ]
    }
   ],
   "source": [
    "userElem = driver.find_element_by_id('username')\n",
    "userElem.send_keys('wieli@iscte-iul.pt')"
   ]
  },
  {
   "cell_type": "code",
   "execution_count": 21,
   "id": "08ffd2fc",
   "metadata": {},
   "outputs": [
    {
     "name": "stderr",
     "output_type": "stream",
     "text": [
      "<ipython-input-21-fe2208f4cfe7>:1: DeprecationWarning: find_element_by_* commands are deprecated. Please use find_element() instead\n",
      "  passElem = driver.find_element_by_id('password')\n"
     ]
    }
   ],
   "source": [
    "passElem = driver.find_element_by_id('password')\n",
    "passElem.send_keys('Lw20022991!!')"
   ]
  },
  {
   "cell_type": "code",
   "execution_count": 19,
   "id": "af4b9663",
   "metadata": {},
   "outputs": [
    {
     "name": "stderr",
     "output_type": "stream",
     "text": [
      "<ipython-input-19-81e0c6b161e6>:1: DeprecationWarning: find_element_by_class_name is deprecated. Please use find_element(by=By.CLASS_NAME, value=name) instead\n",
      "  loginElem = driver.find_element_by_class_name('button')\n"
     ]
    }
   ],
   "source": [
    "loginElem = driver.find_element_by_class_name('button')\n",
    "loginElem.click()\n",
    "# 通过找到提交按钮提交"
   ]
  },
  {
   "cell_type": "code",
   "execution_count": 22,
   "id": "1d49ab48",
   "metadata": {},
   "outputs": [],
   "source": [
    "passElem.submit()\n",
    "# 通过自动检索submit提交"
   ]
  },
  {
   "cell_type": "code",
   "execution_count": 23,
   "id": "d2aa44e9",
   "metadata": {},
   "outputs": [],
   "source": [
    "driver.close()"
   ]
  },
  {
   "cell_type": "code",
   "execution_count": 1,
   "id": "317e6174",
   "metadata": {},
   "outputs": [
    {
     "name": "stdout",
     "output_type": "stream",
     "text": [
      "\n"
     ]
    },
    {
     "name": "stderr",
     "output_type": "stream",
     "text": [
      "[WDM] - ====== WebDriver manager ======\n",
      "[WDM] - Current google-chrome version is 101.0.4951\n",
      "[WDM] - Get LATEST chromedriver version for 101.0.4951 google-chrome\n",
      "[WDM] - About to download new driver from https://chromedriver.storage.googleapis.com/101.0.4951.41/chromedriver_win32.zip\n",
      "[WDM] - Driver has been saved in cache [C:\\Users\\wssia\\.wdm\\drivers\\chromedriver\\win32\\101.0.4951.41]\n",
      "<ipython-input-1-47cafc013ddb>:8: DeprecationWarning: find_element_by_tag_name is deprecated. Please use find_element(by=By.TAG_NAME, value=name) instead\n",
      "  htmlElem = browser.find_element_by_tag_name('html')\n"
     ]
    }
   ],
   "source": [
    "from selenium import webdriver\n",
    "from selenium.webdriver.chrome.service import Service\n",
    "from webdriver_manager.chrome import ChromeDriverManager\n",
    "from selenium.webdriver.common.keys import Keys\n",
    "from selenium.webdriver.common.by import By\n",
    "\n",
    "browser = webdriver.Chrome(service=Service(ChromeDriverManager().install()))\n",
    "browser.get('https://www.yahoo.com')\n",
    "htmlElem = browser.find_element_by_tag_name('html')\n",
    "htmlElem.send_keys(Keys.END)\n",
    "htmlElem.send_keys(Keys.HOME)"
   ]
  },
  {
   "cell_type": "code",
   "execution_count": 4,
   "id": "6c3f6a18",
   "metadata": {},
   "outputs": [
    {
     "name": "stderr",
     "output_type": "stream",
     "text": [
      "<ipython-input-4-b65e0e07d909>:1: DeprecationWarning: find_element_by_name is deprecated. Please use find_element(by=By.NAME, value=name) instead\n",
      "  cookies = browser.find_element_by_name('agree')\n"
     ]
    }
   ],
   "source": [
    "cookies = browser.find_element_by_name('agree')\n",
    "cookies.click()"
   ]
  },
  {
   "cell_type": "code",
   "execution_count": 9,
   "id": "0cbf9fa6",
   "metadata": {},
   "outputs": [],
   "source": [
    "htmlElem = browser.find_element(by=By.TAG_NAME, value='html')\n",
    "htmlElem.send_keys(Keys.END)\n",
    "htmlElem.send_keys(Keys.HOME)"
   ]
  },
  {
   "cell_type": "code",
   "execution_count": null,
   "id": "66f23b14",
   "metadata": {},
   "outputs": [],
   "source": [
    "#单击浏览器按钮\n",
    "browser.back() # 单击返回按钮\n",
    "browser.forward() # 单击前进按钮\n",
    "browser.refresh() # 单击刷新按钮\n",
    "browser.quit() # 单击退出按钮"
   ]
  }
 ],
 "metadata": {
  "kernelspec": {
   "display_name": "Python 3",
   "language": "python",
   "name": "python3"
  },
  "language_info": {
   "codemirror_mode": {
    "name": "ipython",
    "version": 3
   },
   "file_extension": ".py",
   "mimetype": "text/x-python",
   "name": "python",
   "nbconvert_exporter": "python",
   "pygments_lexer": "ipython3",
   "version": "3.8.8"
  }
 },
 "nbformat": 4,
 "nbformat_minor": 5
}
